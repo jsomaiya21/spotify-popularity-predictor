{
 "cells": [
  {
   "cell_type": "markdown",
   "metadata": {},
   "source": []
  },
  {
   "cell_type": "code",
   "execution_count": 84,
   "metadata": {},
   "outputs": [],
   "source": [
    "import pandas as pd\n",
    "df = pd.read_csv('spotify_cleaned.csv')"
   ]
  },
  {
   "cell_type": "code",
   "execution_count": 85,
   "metadata": {},
   "outputs": [],
   "source": [
    "df = df.drop(['track_name'], axis=1)"
   ]
  },
  {
   "cell_type": "code",
   "execution_count": 86,
   "metadata": {},
   "outputs": [],
   "source": [
    "df_popfilm = df[df['track_genre'] == 'pop-film']\n",
    "df_sad = df[df['track_genre'] == 'sad']\n",
    "df_electronic = df[df['track_genre'] == 'electronic']\n",
    "df_metal = df[df['track_genre'] == 'metal']\n",
    "df_acoustic = df[df['track_genre'] == 'acoustic']"
   ]
  },
  {
   "cell_type": "markdown",
   "metadata": {},
   "source": [
    "## Random Forest"
   ]
  },
  {
   "cell_type": "code",
   "execution_count": 87,
   "metadata": {},
   "outputs": [],
   "source": [
    "from sklearn.model_selection import train_test_split\n",
    "from sklearn.ensemble import RandomForestRegressor\n",
    "from sklearn.metrics import mean_squared_error, r2_score\n",
    "from sklearn.linear_model import Ridge, Lasso"
   ]
  },
  {
   "cell_type": "code",
   "execution_count": 88,
   "metadata": {},
   "outputs": [],
   "source": [
    "def random_forest(df_genre):\n",
    "    # separate features / target\n",
    "    X = df_genre.drop(columns=['popularity'])\n",
    "    y = df_genre['popularity']\n",
    "    \n",
    "    X = pd.get_dummies(X, drop_first=True)\n",
    "    \n",
    "    # split the data\n",
    "    X_train, X_test, y_train, y_test = train_test_split(X, y, test_size=0.2, random_state=42)\n",
    "    model = RandomForestRegressor(random_state=100, n_estimators=100)\n",
    "    \n",
    "    # train the model\n",
    "    model.fit(X_train, y_train)\n",
    "    \n",
    "    # predictions\n",
    "    y_pred = model.predict(X_test)\n",
    "    mse = mean_squared_error(y_test, y_pred)\n",
    "    r2 = r2_score(y_test, y_pred)\n",
    "    \n",
    "    feature_importances = pd.DataFrame({\n",
    "        'Feature': X.columns,\n",
    "        'Importance': model.feature_importances_\n",
    "    }).sort_values(by='Importance', ascending=False)\n",
    "    \n",
    "    return {\"MSE\": mse, \"R2\": r2, \"Feature Rankings\": feature_importances}"
   ]
  },
  {
   "cell_type": "code",
   "execution_count": 89,
   "metadata": {},
   "outputs": [],
   "source": [
    "metrics_popfilm = random_forest(df_popfilm)"
   ]
  },
  {
   "cell_type": "code",
   "execution_count": 90,
   "metadata": {},
   "outputs": [],
   "source": [
    "metrics_sad = random_forest(df_sad)"
   ]
  },
  {
   "cell_type": "code",
   "execution_count": 91,
   "metadata": {},
   "outputs": [],
   "source": [
    "metrics_electronic = random_forest(df_electronic)"
   ]
  },
  {
   "cell_type": "code",
   "execution_count": 92,
   "metadata": {},
   "outputs": [],
   "source": [
    "metrics_metal = random_forest(df_metal)"
   ]
  },
  {
   "cell_type": "code",
   "execution_count": 93,
   "metadata": {},
   "outputs": [],
   "source": [
    "metrics_acoustic = random_forest(df_acoustic)"
   ]
  },
  {
   "cell_type": "code",
   "execution_count": 94,
   "metadata": {},
   "outputs": [],
   "source": [
    "with open('random_forest_report.txt', 'w') as file:\n",
    "    print(f'POPFILM METRICS ==> \\n{metrics_popfilm}', file=file)\n",
    "    print('', file=file)\n",
    "    print(f'SAD METRICS ==> \\n{metrics_sad}', file=file)\n",
    "    print('', file=file)\n",
    "    print(f'ELECTRONIC METRICS ==> \\n{metrics_electronic}', file=file)\n",
    "    print('', file=file)\n",
    "    print(f'METAL METRICS ==> \\n{metrics_metal}', file=file)\n",
    "    print('', file=file)\n",
    "    print(f'ACOUSTIC METRICS ==> \\n{metrics_acoustic}', file=file)\n"
   ]
  },
  {
   "cell_type": "code",
   "execution_count": null,
   "metadata": {},
   "outputs": [],
   "source": [
    "def ridge_regression(df_genre):\n",
    "    # separate features / target\n",
    "    X = df_genre.drop(columns=['popularity'])\n",
    "    y = df_genre['popularity']\n",
    "    \n",
    "    X = pd.get_dummies(X, drop_first=True)\n",
    "    \n",
    "    # split the data\n",
    "    X_train, X_test, y_train, y_test = train_test_split(X, y, test_size=0.2, random_state=42)\n",
    "    model = Ridge(alpha=10)\n",
    "    \n",
    "    # train the model\n",
    "    model.fit(X_train, y_train)\n",
    "    \n",
    "    # predictions\n",
    "    y_pred = model.predict(X_test)\n",
    "    mse = mean_squared_error(y_test, y_pred)\n",
    "    r2 = r2_score(y_test, y_pred)\n",
    "    \n",
    "    feature_importances = pd.DataFrame({\n",
    "        'Feature': X.columns,\n",
    "        'Importance': model.coef_\n",
    "    }).sort_values(by='Importance', key=lambda x: x.abs(), ascending=False)\n",
    "    \n",
    "    return {\"MSE\": mse, \"R2\": r2, \"Feature Rankings\": feature_importances}"
   ]
  },
  {
   "cell_type": "code",
   "execution_count": 96,
   "metadata": {},
   "outputs": [],
   "source": [
    "ridge_metrics_popfilm = ridge_regression(df_popfilm)"
   ]
  },
  {
   "cell_type": "code",
   "execution_count": 97,
   "metadata": {},
   "outputs": [],
   "source": [
    "ridge_metrics_sad = ridge_regression(df_sad)"
   ]
  },
  {
   "cell_type": "code",
   "execution_count": 98,
   "metadata": {},
   "outputs": [],
   "source": [
    "ridge_metrics_electronic = ridge_regression(df_electronic)"
   ]
  },
  {
   "cell_type": "code",
   "execution_count": 99,
   "metadata": {},
   "outputs": [],
   "source": [
    "ridge_metrics_metal = ridge_regression(df_metal)"
   ]
  },
  {
   "cell_type": "code",
   "execution_count": 100,
   "metadata": {},
   "outputs": [],
   "source": [
    "ridge_metrics_acoustic = ridge_regression(df_acoustic)"
   ]
  },
  {
   "cell_type": "code",
   "execution_count": 101,
   "metadata": {},
   "outputs": [],
   "source": [
    "with open('ridge_report.txt', 'w') as file:\n",
    "    print(f'POPFILM METRICS ==> \\n{ridge_metrics_popfilm}', file=file)\n",
    "    print('', file=file)\n",
    "    print(f'SAD METRICS ==> \\n{ridge_metrics_sad}', file=file)\n",
    "    print('', file=file)\n",
    "    print(f'ELECTRONIC METRICS ==> \\n{ridge_metrics_electronic}', file=file)\n",
    "    print('', file=file)\n",
    "    print(f'METAL METRICS ==> \\n{ridge_metrics_metal}', file=file)\n",
    "    print('', file=file)\n",
    "    print(f'ACOUSTIC METRICS ==> \\n{ridge_metrics_acoustic}', file=file)"
   ]
  },
  {
   "cell_type": "code",
   "execution_count": null,
   "metadata": {},
   "outputs": [],
   "source": [
    "def lasso_regression(df_genre):\n",
    "    # separate features / target\n",
    "    X = df_genre.drop(columns=['popularity'])\n",
    "    y = df_genre['popularity']\n",
    "    \n",
    "    X = pd.get_dummies(X, drop_first=True)\n",
    "    \n",
    "    # split the data\n",
    "    X_train, X_test, y_train, y_test = train_test_split(X, y, test_size=0.2, random_state=42)\n",
    "    model = Lasso(alpha=0.01)\n",
    "    \n",
    "    # train the model\n",
    "    model.fit(X_train, y_train)\n",
    "    \n",
    "    # predictions\n",
    "    y_pred = model.predict(X_test)\n",
    "    mse = mean_squared_error(y_test, y_pred)\n",
    "    r2 = r2_score(y_test, y_pred)\n",
    "    \n",
    "    feature_importances = pd.DataFrame({\n",
    "        'Feature': X.columns,\n",
    "        'Importance': model.coef_\n",
    "    }).sort_values(by='Importance', key=lambda x: x.abs(), ascending=False)\n",
    "    \n",
    "    return {\"MSE\": mse, \"R2\": r2, \"Feature Rankings\": feature_importances}"
   ]
  },
  {
   "cell_type": "code",
   "execution_count": 103,
   "metadata": {},
   "outputs": [],
   "source": [
    "lasso_metrics_popfilm = lasso_regression(df_popfilm)"
   ]
  },
  {
   "cell_type": "code",
   "execution_count": 104,
   "metadata": {},
   "outputs": [],
   "source": [
    "lasso_metrics_sad = lasso_regression(df_sad)"
   ]
  },
  {
   "cell_type": "code",
   "execution_count": 105,
   "metadata": {},
   "outputs": [],
   "source": [
    "lasso_metrics_electronic = lasso_regression(df_electronic)"
   ]
  },
  {
   "cell_type": "code",
   "execution_count": 106,
   "metadata": {},
   "outputs": [],
   "source": [
    "lasso_metrics_metal = lasso_regression(df_metal)"
   ]
  },
  {
   "cell_type": "code",
   "execution_count": 107,
   "metadata": {},
   "outputs": [],
   "source": [
    "lasso_metrics_acoustic = lasso_regression(df_acoustic)"
   ]
  },
  {
   "cell_type": "code",
   "execution_count": 108,
   "metadata": {},
   "outputs": [],
   "source": [
    "with open('lasso_report.txt', 'w') as file:\n",
    "    print(f'POPFILM METRICS ==> \\n{lasso_metrics_popfilm}', file=file)\n",
    "    print('', file=file)\n",
    "    print(f'SAD METRICS ==> \\n{lasso_metrics_sad}', file=file)\n",
    "    print('', file=file)\n",
    "    print(f'ELECTRONIC METRICS ==> \\n{lasso_metrics_electronic}', file=file)\n",
    "    print('', file=file)\n",
    "    print(f'METAL METRICS ==> \\n{lasso_metrics_metal}', file=file)\n",
    "    print('', file=file)\n",
    "    print(f'ACOUSTIC METRICS ==> \\n{lasso_metrics_acoustic}', file=file)"
   ]
  }
 ],
 "metadata": {
  "kernelspec": {
   "display_name": "Python 3",
   "language": "python",
   "name": "python3"
  },
  "language_info": {
   "codemirror_mode": {
    "name": "ipython",
    "version": 3
   },
   "file_extension": ".py",
   "mimetype": "text/x-python",
   "name": "python",
   "nbconvert_exporter": "python",
   "pygments_lexer": "ipython3",
   "version": "3.12.7"
  }
 },
 "nbformat": 4,
 "nbformat_minor": 2
}
