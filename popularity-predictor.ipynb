{
 "cells": [
  {
   "cell_type": "markdown",
   "metadata": {},
   "source": []
  },
  {
   "cell_type": "code",
   "execution_count": 3,
   "metadata": {},
   "outputs": [],
   "source": [
    "import pandas as pd\n",
    "df = pd.read_csv('spotify_cleaned.csv')"
   ]
  },
  {
   "cell_type": "code",
   "execution_count": 8,
   "metadata": {},
   "outputs": [],
   "source": [
    "df = df.drop(['track_name'], axis=1)"
   ]
  },
  {
   "cell_type": "code",
   "execution_count": 9,
   "metadata": {},
   "outputs": [],
   "source": [
    "df_popfilm = df[df['track_genre'] == 'pop-film']\n",
    "df_sad = df[df['track_genre'] == 'sad']\n",
    "df_electronic = df[df['track_genre'] == 'electronic']\n",
    "df_metal = df[df['track_genre'] == 'metal']\n",
    "df_acoustic = df[df['track_genre'] == 'acoustic']"
   ]
  },
  {
   "cell_type": "markdown",
   "metadata": {},
   "source": [
    "## Random Forest"
   ]
  },
  {
   "cell_type": "code",
   "execution_count": 11,
   "metadata": {},
   "outputs": [],
   "source": [
    "from sklearn.model_selection import train_test_split\n",
    "from sklearn.ensemble import RandomForestRegressor\n",
    "from sklearn.metrics import mean_squared_error, r2_score"
   ]
  },
  {
   "cell_type": "code",
   "execution_count": 12,
   "metadata": {},
   "outputs": [],
   "source": [
    "def random_forest(df_genre):\n",
    "    # separate features / target\n",
    "    X = df_genre.drop(columns=['popularity'])\n",
    "    y = df_genre['popularity']\n",
    "    \n",
    "    X = pd.get_dummies(X, drop_first=True)\n",
    "    \n",
    "    # split the data\n",
    "    X_train, X_test, y_train, y_test = train_test_split(X, y, test_size=0.2, random_state=42)\n",
    "    model = RandomForestRegressor(random_state=100, n_estimators=100)\n",
    "    \n",
    "    # train the model\n",
    "    model.fit(X_train, y_train)\n",
    "    \n",
    "    # predictions\n",
    "    y_pred = model.predict(X_test)\n",
    "    mse = mean_squared_error(y_test, y_pred)\n",
    "    r2 = r2_score(y_test, y_pred)\n",
    "    \n",
    "    feature_importances = pd.DataFrame({\n",
    "        'Feature': X.columns,\n",
    "        'Importance': model.feature_importances_\n",
    "    }).sort_values(by='Importance', ascending=False)\n",
    "    \n",
    "    return {\"MSE\": mse, \"R2\": r2, \"Feature Rankings\": feature_importances}"
   ]
  },
  {
   "cell_type": "code",
   "execution_count": 13,
   "metadata": {},
   "outputs": [],
   "source": [
    "metrics_popfilm = random_forest(df_popfilm)"
   ]
  },
  {
   "cell_type": "code",
   "execution_count": 14,
   "metadata": {},
   "outputs": [],
   "source": [
    "metrics_sad = random_forest(df_sad)"
   ]
  },
  {
   "cell_type": "code",
   "execution_count": 15,
   "metadata": {},
   "outputs": [],
   "source": [
    "metrics_electronic = random_forest(df_electronic)"
   ]
  },
  {
   "cell_type": "code",
   "execution_count": 16,
   "metadata": {},
   "outputs": [],
   "source": [
    "metrics_metal = random_forest(df_metal)"
   ]
  },
  {
   "cell_type": "code",
   "execution_count": 17,
   "metadata": {},
   "outputs": [],
   "source": [
    "metrics_acoustic = random_forest(df_acoustic)"
   ]
  },
  {
   "cell_type": "code",
   "execution_count": 19,
   "metadata": {},
   "outputs": [],
   "source": [
    "with open('random_forest_report.txt', 'w') as file:\n",
    "    print(f'POPFILM METRICS ==> {metrics_popfilm}', file=file)\n",
    "    print('', file=file)\n",
    "    print(f'SAD METRICS ==> {metrics_sad}', file=file)\n",
    "    print('', file=file)\n",
    "    print(f'ELECTRONIC METRICS ==> {metrics_electronic}', file=file)\n",
    "    print('', file=file)\n",
    "    print(f'METAL METRICS ==> {metrics_metal}', file=file)\n",
    "    print('', file=file)\n",
    "    print(f'ACOUSTIC METRICS ==> {metrics_acoustic}', file=file)\n"
   ]
  }
 ],
 "metadata": {
  "kernelspec": {
   "display_name": "Python 3",
   "language": "python",
   "name": "python3"
  },
  "language_info": {
   "codemirror_mode": {
    "name": "ipython",
    "version": 3
   },
   "file_extension": ".py",
   "mimetype": "text/x-python",
   "name": "python",
   "nbconvert_exporter": "python",
   "pygments_lexer": "ipython3",
   "version": "3.12.7"
  }
 },
 "nbformat": 4,
 "nbformat_minor": 2
}
